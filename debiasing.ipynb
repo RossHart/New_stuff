{
 "cells": [
  {
   "cell_type": "code",
   "execution_count": 1,
   "metadata": {
    "collapsed": true
   },
   "outputs": [],
   "source": [
    "from __future__ import print_function\n",
    "from __future__ import division"
   ]
  },
  {
   "cell_type": "code",
   "execution_count": 2,
   "metadata": {
    "collapsed": false
   },
   "outputs": [],
   "source": [
    "%matplotlib inline\n",
    "import matplotlib as mpl\n",
    "from matplotlib import pyplot as plt\n",
    "# better-looking plots\n",
    "plt.rcParams['font.family'] = 'serif'\n",
    "plt.rcParams['figure.figsize'] = (10.0, 8)\n",
    "plt.rcParams['font.size'] = 18\n",
    "mpl.ticker.AutoLocator.default_params['nbins'] = 5\n",
    "mpl.ticker.AutoLocator.default_params['prune'] = 'both'"
   ]
  },
  {
   "cell_type": "code",
   "execution_count": 3,
   "metadata": {
    "collapsed": true
   },
   "outputs": [],
   "source": [
    "from IPython.display import Image"
   ]
  },
  {
   "cell_type": "code",
   "execution_count": 4,
   "metadata": {
    "collapsed": true
   },
   "outputs": [],
   "source": [
    "import numpy as np\n",
    "from astropy.io import fits\n",
    "from astropy.table import Table\n",
    "from scipy.stats import binned_statistic, scoreatpercentile"
   ]
  },
  {
   "cell_type": "code",
   "execution_count": 8,
   "metadata": {
    "collapsed": false
   },
   "outputs": [
    {
     "name": "stdout",
     "output_type": "stream",
     "text": [
      "t01_smooth_or_features to be debiased:\n"
     ]
    }
   ],
   "source": [
    "import params\n",
    "\n",
    "source_directory = params.source_directory\n",
    "save_directory = params.numpy_save_directory\n",
    "full_sample = params.full_sample\n",
    "volume_limited_sample = params.volume_limited_sample\n",
    "question = params.question\n",
    "question_dictionary = params.question_dictionary\n",
    "bins_to_plot = params.bins_to_plot\n",
    "print('{} to be debiased:'.format(question))\n",
    "\n",
    "min_log_fv = -1.5"
   ]
  },
  {
   "cell_type": "code",
   "execution_count": 9,
   "metadata": {
    "collapsed": false
   },
   "outputs": [],
   "source": [
    "import pickle\n",
    "\n",
    "def load(filename,copyname,source_directory=source_directory):\n",
    "# Check if a copy of the data exists. If not, make the copy.\n",
    "    if os.path.isfile(source_directory+copyname) is False:\n",
    "        data = fits.getdata(source_directory+filename,1)\n",
    "        data = Table(data)\n",
    "        data.write(source_directory+copyname)\n",
    "    \n",
    "    data = fits.getdata(source_directory+copyname,1)\n",
    "    data = Table(data)\n",
    "    \n",
    "    return data"
   ]
  },
  {
   "cell_type": "code",
   "execution_count": 10,
   "metadata": {
    "collapsed": false
   },
   "outputs": [],
   "source": [
    "all_data = load(full_sample,'full_sample_copy.fits')\n",
    "vl_data = load(volume_limited_sample,'volume_limited_copy.fits')\n",
    "\n",
    "with open(source_directory+question_dictionary, 'rb') as h:\n",
    "    questions = pickle.load(h)\n",
    "\n",
    "# Stuff obtained from the voronoi code:\n",
    "all_voronoi = fits.getdata(save_directory+'bins.fits',1)\n",
    "all_voronoi = Table(all_voronoi)\n",
    "vbins_table = fits.getdata(save_directory+'vbins_table.fits',1)\n",
    "vbins_table = Table(vbins_table)"
   ]
  },
  {
   "cell_type": "code",
   "execution_count": 11,
   "metadata": {
    "collapsed": false
   },
   "outputs": [
    {
     "name": "stdout",
     "output_type": "stream",
     "text": [
      "Made directory:figures/t01_smooth_or_features/redshift_binning/\n",
      "Made directory:figures/t01_smooth_or_features/fitted_results/\n",
      "Made directory:figures/t01_smooth_or_features/fit_setups/\n",
      "Made directory:figures/t01_smooth_or_features/kc_fitted_functions/\n",
      "Made directory:figures/t01_smooth_or_features/debiased_plots/\n"
     ]
    }
   ],
   "source": [
    "def make_figure_directory(name):\n",
    "    full_name = 'figures/' + question + '/' + name + '/'\n",
    "    os.mkdir(full_name) if os.path.isdir(full_name) is False else None\n",
    "    print('Made directory:' + full_name)\n",
    "    return None\n",
    "\n",
    "os.mkdir('figures/' + question + '/') if os.path.isdir('figures/' + question + '/') is False else None\n",
    "for name in ['redshift_binning','fitted_results','fit_setups','kc_fitted_functions','debiased_plots']:\n",
    "    make_figure_directory(name)"
   ]
  },
  {
   "cell_type": "code",
   "execution_count": 42,
   "metadata": {
    "collapsed": true
   },
   "outputs": [],
   "source": [
    "## from 01_select.py\n",
    "\n",
    "def select_data_arm_number(data,question,questions,N_cut=5,p_cut=0.5):\n",
    "    \n",
    "    pre_questions = questions[question]['pre_questions']\n",
    "    pre_answers = questions[question]['pre_answers']\n",
    "    \n",
    "    strings = [pre_questions[s] + '_' + pre_answers[s] for s in range(len(pre_answers))]\n",
    "    p_strings = [s + '_debiased_2' for s in strings]\n",
    "    N_string = strings[-1] + '_count'\n",
    "\n",
    "    p_values = np.ones(len(data))\n",
    "    N_values = np.ones(len(data))\n",
    "\n",
    "    for Q in p_strings:\n",
    "        p_values = p_values*data[Q]\n",
    "    N_values = N_values*data[N_string]\n",
    "\n",
    "    select = (p_values > p_cut) & (N_values >= N_cut)\n",
    "    \n",
    "    print('{}/{} ({}%) galaxies selected in sample with p>{}and N>={}.'.format(np.sum(select),len(select),\n",
    "                                                                              100*np.sum(select)/len(select),p_cut,N_cut))\n",
    "    \n",
    "    return select"
   ]
  },
  {
   "cell_type": "code",
   "execution_count": 43,
   "metadata": {
    "collapsed": false
   },
   "outputs": [],
   "source": [
    "## from 11_voronoi_assignment.py\n",
    "\n",
    "def redshift_binning(data,voronoi_bins,question,questions,min_gals=50):\n",
    "    \n",
    "    answers = questions[question]['answers']\n",
    "    morph_fv_cols = ['{}_{}_weighted_fraction'.format(question, a) \n",
    "                     for a in answers]\n",
    "    redshift = data['REDSHIFT_1']\n",
    "    z_bins = np.zeros((len(morph_fv_cols), len(data)), np.int)\n",
    "\n",
    "    for N in np.unique(voronoi_bins):\n",
    "        inbin = voronoi_bins == N\n",
    "\n",
    "        for m, fv_col in enumerate(morph_fv_cols):\n",
    "            # Select bins such that >= min_gals objects\n",
    "            # with at least one vote are in each bin\n",
    "            has_morph = data[fv_col][inbin] > 0\n",
    "            n_with_morph = (has_morph).sum()\n",
    "            n_zbins = n_with_morph / min_gals \n",
    "            n_zbins = max(n_zbins, 5)\n",
    "            z = redshift[inbin]\n",
    "            z_with_morph = z[has_morph]\n",
    "            z_with_morph.sort()\n",
    "            bin_edges = np.linspace(0, len(z_with_morph)-1, n_zbins+1, dtype=np.int)\n",
    "            z_edges = z_with_morph[bin_edges]\n",
    "            z_edges[0] = 0\n",
    "            z_edges[-1] = 1\n",
    "            z_bins[m, inbin] = np.digitize(z, z_edges)\n",
    "\n",
    "    return z_bins"
   ]
  },
  {
   "cell_type": "code",
   "execution_count": 44,
   "metadata": {
    "collapsed": false
   },
   "outputs": [],
   "source": [
    "def save_bin_assignments(v_bins, z_bins, question='t11_arms_number'):\n",
    "    assignments = Table(data=[v_bins], names=['vbin'])\n",
    "    for m in range(len(z_bins)):\n",
    "        zcol = 'zbin_{}'.format(m)\n",
    "        assignments[zcol] = z_bins[m]\n",
    "    assignments.write(save_directory + 'bin_assignments_{}.fits'.format(question),\n",
    "                      overwrite=True)\n",
    "    return assignments"
   ]
  },
  {
   "cell_type": "code",
   "execution_count": 48,
   "metadata": {
    "collapsed": false
   },
   "outputs": [
    {
     "name": "stdout",
     "output_type": "stream",
     "text": [
      "Primary question, so all 248883 galaxies selected.\n"
     ]
    }
   ],
   "source": [
    "if questions[question]['pre_questions'] != None:\n",
    "    select = select_data_arm_number(all_data,question,questions)\n",
    "    data = all_data[select]\n",
    "    voronoi = all_voronoi[select]\n",
    "\n",
    "else:\n",
    "    data = all_data\n",
    "    voronoi = all_voronoi\n",
    "    print('Primary question, so all {} galaxies selected.'.format(len(data)))"
   ]
  },
  {
   "cell_type": "code",
   "execution_count": null,
   "metadata": {
    "collapsed": false
   },
   "outputs": [],
   "source": [
    "redshift_bins = redshift_binning(data, voronoi['voronoi_bin'],question,questions)\n",
    "bin_assignments = save_bin_assignments(voronoi['voronoi_bin'],redshift_bins,question)"
   ]
  },
  {
   "cell_type": "code",
   "execution_count": null,
   "metadata": {
    "collapsed": false
   },
   "outputs": [],
   "source": [
    "fig, (ax1, ax2, ax3) = plt.subplots(3, 1, sharex=True, figsize=(10,16))\n",
    "\n",
    "ax1.scatter(data['REDSHIFT_1'], voronoi['voronoi_bin'], c=redshift_bins[1], marker='.', edgecolor='none')\n",
    "ax1.set_ylabel(\"Voronoi bin\")\n",
    "ax2.scatter(data['REDSHIFT_1'], vbins_table['R50'][voronoi['voronoi_bin']], \n",
    "            c=redshift_bins[1], marker='.', edgecolor='none')\n",
    "ax2.set_ylabel(\"$log_{10}{R_{50}}$\")\n",
    "sc = ax3.scatter(data['REDSHIFT_1'], vbins_table['Mr'][voronoi['voronoi_bin']],\n",
    "                 c=redshift_bins[1], marker='.', edgecolor='none')\n",
    "ax3.set_ylabel(\"$M_r$\")\n",
    "_ = ax3.axis((0.0, 0.25, -18, -23))\n",
    "fig.subplots_adjust(hspace=0.075)\n",
    "ax3.set_xlabel('redshift')\n",
    "\n",
    "plt.savefig('figures/' + question + '/redshift_binning/{}_z_bins.pdf'.format(question),dpi=100)"
   ]
  },
  {
   "cell_type": "code",
   "execution_count": null,
   "metadata": {
    "collapsed": true
   },
   "outputs": [],
   "source": [
    "def f_logistic(x, k, c):\n",
    "    # Function to fit the data bin output from the raw plot function\n",
    "    L = 1 + np.exp(c)\n",
    "    r = L / (1.0 + np.exp(-k * x + c))\n",
    "    return r\n",
    "\n",
    "\n",
    "def f_exp(x, k):\n",
    "    # Function to fit the data bin output from the raw plot function\n",
    "    r = np.exp(k * x)\n",
    "    return r\n",
    "\n",
    "\n",
    "def f_exp_pow(x, k, c):\n",
    "    # Function to fit the data bin output from the raw plot function\n",
    "    r = np.exp(-k * (-x) ** c)\n",
    "    return r\n",
    "\n",
    "\n",
    "def chisq_fun(p, f, x, y):\n",
    "    return ((f(x, *p) - y)**2).sum()"
   ]
  },
  {
   "cell_type": "code",
   "execution_count": null,
   "metadata": {
    "collapsed": true
   },
   "outputs": [],
   "source": [
    "def i_f_logistic(y, k, c):\n",
    "    # inverse of f_logistic\n",
    "    L = 1 + np.exp(c)\n",
    "    x = -(np.log(L / y - 1) - c) / k\n",
    "    return x\n",
    "\n",
    "def i_f_exp_pow(y, k, c):\n",
    "    # inverse of f_exp_pow\n",
    "    ok = k > 0\n",
    "    x = np.zeros_like(y) - np.inf\n",
    "    x[ok] = -(-np.log(y[ok]) /k[ok] )**(1.0/c[ok])\n",
    "    return x\n",
    "\n",
    "def inverse_f(f):\n",
    "    if f == f_logistic:\n",
    "        return i_f_logistic\n",
    "    elif f == f_exp_pow:\n",
    "        return i_f_exp_pow"
   ]
  },
  {
   "cell_type": "code",
   "execution_count": null,
   "metadata": {
    "collapsed": false
   },
   "outputs": [],
   "source": [
    "def plot_raw(ax, D, color):\n",
    "    # Plot cumulative fractions for the raw data\n",
    "    ax.plot(D['log10fv'], D['cumfrac'], '-', color=color, lw=2, alpha=0.2)\n",
    "\n",
    "\n",
    "def plot_function(ax, f, x, p, color, style='--'):\n",
    "    # Plot fitted function to cumulative fractions\n",
    "    ax.plot(x, f(x, *p), style, color=color, lw=0.5)\n",
    "\n",
    "\n",
    "def plot_guides(ax):\n",
    "    # Plot guides at 20%, 50%, 80%\n",
    "    x_guides = np.log10([0.2, 0.5, 0.8])\n",
    "    y_guides = np.array([0, 1.05])\n",
    "    for xg in x_guides:\n",
    "        ax.plot([xg, xg], y_guides, color=[0, 0, 0], alpha=0.3)\n",
    "\n",
    "        \n",
    "def plot_limits(x, p=1, d=0.05):\n",
    "    low, high = scoreatpercentile(x, (p, 100-p))\n",
    "    diff = high-low\n",
    "    low -= d * diff\n",
    "    high += d * diff\n",
    "    return low, high\n",
    "\n",
    "\n",
    "def finish_vbin_plot(fig, ax, answerlabels, m, v):\n",
    "    plot_guides(ax)\n",
    "    ax.tick_params(axis='both', labelsize=10)\n",
    "    ax.set_xticks(np.arange(-1.5, 0.1, 0.5))\n",
    "    ax.text(-1.9, 0.95, answerlabels[m],\n",
    "            fontsize=10, ha='left')\n",
    "    ax.set_ylim([0, 1.05])\n",
    "    if m > 2:\n",
    "        ax.set_xlabel(r'$\\log(v_f)$')\n",
    "    if m in (0, 3):\n",
    "        ax.set_ylabel('Cumulative fraction')\n",
    "    if m == 1:\n",
    "        ax.set_title('Voronoi bin %02i' % v)\n",
    "    fig.subplots_adjust(wspace=0, hspace=0)"
   ]
  },
  {
   "cell_type": "code",
   "execution_count": null,
   "metadata": {
    "collapsed": false
   },
   "outputs": [],
   "source": [
    "from scipy.optimize import minimize\n",
    "\n",
    "def fit_vbin_function(data, bin_assignments, fit_setup,\n",
    "                      question,questions,kc_fit_results=None,\n",
    "                      plot=bins_to_plot,min_log_fv=min_log_fv):\n",
    "    # Output fitted function for each of the Voronoi bins,\n",
    "    # arm numbers and redshift bins.\n",
    "    \n",
    "    answers = questions[question]['answers']\n",
    "    answerlabels = questions[question]['answerlabels']\n",
    "\n",
    "    morph_fv_cols = ['{}_{}_weighted_fraction'.format(question, a) \n",
    "                     for a in answers]\n",
    "    redshift = data['REDSHIFT_1']\n",
    "    vbins = bin_assignments['vbin']\n",
    "\n",
    "    if kc_fit_results is not None:\n",
    "        kcfunc, kparams, cparams, kclabel = kc_fit_results\n",
    "    \n",
    "    # Set up the list to write the parameters in to:\n",
    "    param_data = []\n",
    "    \n",
    "    max_z_bins_to_plot = 5\n",
    "    \n",
    "    # Loop over Voronoi magnitude-size bins\n",
    "    for v in np.unique(vbins):\n",
    "        vselect = vbins == v\n",
    "        data_v = data[vselect]\n",
    "        bin_assignments_v = bin_assignments[vselect]\n",
    "\n",
    "        if v in plot:\n",
    "            fig,axarr = make_axes(n_morph=len(answers))\n",
    "            x = np.linspace(-2,0,1000)\n",
    "\n",
    "        # Loop over morphological categories\n",
    "        for m, fv in enumerate(morph_fv_cols):\n",
    "            z_bins = bin_assignments_v['zbin_{}'.format(m)]\n",
    "            z_bins_unique = np.unique(z_bins)\n",
    "            n_z_bins = len(z_bins_unique)\n",
    "            z_bins_to_plot = z_bins_unique[::(n_z_bins // max_z_bins_to_plot) + 1]\n",
    "            z_min = z_bins.min()\n",
    "            z_max = z_bins.max()\n",
    "            clr_diff = (1.0 / (z_max - z_min)) if z_max - z_min != 0 else 0\n",
    "\n",
    "            # Loop over redshift slices\n",
    "            for z in z_bins_unique:\n",
    "                data_z = data_v[z_bins == z]\n",
    "                n = len(data_z)\n",
    "                clr_z = [min((z - 1) * clr_diff, 1), 0,\n",
    "                         max(1 - (z - 1) * clr_diff, 0)]\n",
    "\n",
    "                # Compute cumulative fraction\n",
    "                D = data_z[[fv]]\n",
    "                D.sort(fv)\n",
    "                D['cumfrac'] = np.linspace(0, 1, n)\n",
    "                #D = D[D[fv] > min_fv]\n",
    "                D['log10fv'] = np.log10(D[fv])\n",
    "                D = D[D['log10fv'] > min_log_fv]\n",
    "\n",
    "                # Fit function to the cumulative fraction\n",
    "                # Start fits off in roughly right place with sensible bounds\n",
    "                func, p0, bounds = get_fit_setup(fit_setup, m)\n",
    "                # Note that need to cast x and y to float64 in order\n",
    "                # for minimisation to work correctly\n",
    "                res = minimize(chisq_fun, p0,\n",
    "                               args=(func,\n",
    "                                     D['log10fv'].astype(np.float64),\n",
    "                                     D['cumfrac'].astype(np.float64)),\n",
    "                               bounds=bounds, method='SLSQP')\n",
    "                p = res.x\n",
    "                chi2nu = res.fun / (n - len(p))\n",
    "                \n",
    "                means = [data_z['PETROMAG_MR'].mean(),\n",
    "                         np.log10(data_z['PETROR50_R_KPC']).mean(),\n",
    "                         data_z['REDSHIFT_1'].mean()]\n",
    "                                \n",
    "                if v in plot and z in z_bins_to_plot:\n",
    "                    ax = axarr[m]\n",
    "                    plot_raw(ax, D, clr_z)\n",
    "                    plot_function(ax, func, x, p, clr_z)\n",
    "                    if kc_fit_results is not None:\n",
    "                        kf = kcfunc(means, *kparams[m])\n",
    "                        cf = kcfunc(means, *cparams[m])\n",
    "                        plot_function(ax, func, x, (kf, cf), clr_z, style=':')\n",
    "\n",
    "                if len(p) < 2:\n",
    "                    p = np.array([p[0], 10])\n",
    "\n",
    "                param_data.append([v, m, z] + means + p[:2].tolist() +\n",
    "                                  [chi2nu])\n",
    "\n",
    "            if v in plot:\n",
    "                finish_vbin_plot(fig, ax, answerlabels, m, v)\n",
    "        if v in plot:\n",
    "            \n",
    "            suffix = '_kcfit{}'.format(kclabel) if kc_fit_results is not None else ''\n",
    "            fig.savefig('figures/' + question + '/fitted_results/fit_{}_vbin{:02d}{}.pdf'.format(question, v, suffix),\n",
    "                        dpi=100)\n",
    "            plt.close()\n",
    "\n",
    "    fit_vbin_results = Table(rows=param_data,\n",
    "                             names=('vbin', 'answer', 'zbin', 'Mr',\n",
    "                                    'R50', 'redshift', 'k', 'c', 'chi2nu'))\n",
    "    fit_vbin_results.write(save_directory + 'fit_vbin_results_{}.fits'.format(question),\n",
    "                           overwrite=True)\n",
    "    return fit_vbin_results"
   ]
  },
  {
   "cell_type": "code",
   "execution_count": null,
   "metadata": {
    "collapsed": true
   },
   "outputs": [],
   "source": [
    "def get_fit_setup(fit_setup, m):\n",
    "    def get_m(x):\n",
    "        return x[m] if m in x.keys() else x[None]\n",
    "    func = get_m(fit_setup['func'])\n",
    "    p0 = get_m(fit_setup['p0'])\n",
    "    bounds = get_m(fit_setup['bounds'])\n",
    "    return func, p0, bounds"
   ]
  },
  {
   "cell_type": "code",
   "execution_count": null,
   "metadata": {
    "collapsed": false
   },
   "outputs": [],
   "source": [
    "def make_axes(n_morph,xlabel='$\\log(f_v)$',ylabel='cumulative fraction'):\n",
    "\n",
    "    x_dimension = math.ceil(math.sqrt(n_morph))\n",
    "    y_dimension = math.ceil(n_morph/x_dimension)\n",
    "    n_plots = x_dimension*y_dimension\n",
    "    n_spare = n_plots-n_morph\n",
    "    remove_axes = np.arange(-n_spare,0)\n",
    "    fig,axes = plt.subplots(y_dimension,x_dimension,sharex=True,sharey=True,figsize=(5*x_dimension,5*y_dimension))\n",
    "    for ax in axes[-1,:]:\n",
    "        ax.set_xlabel(xlabel)\n",
    "    for ax in axes[:,0]:\n",
    "        ax.set_ylabel(ylabel) \n",
    "    plt.subplots_adjust(hspace=0,wspace=0)\n",
    "    axes=axes.ravel()\n",
    "    for m in remove_axes:\n",
    "        fig.delaxes(axes[m])\n",
    "    return fig,axes"
   ]
  },
  {
   "cell_type": "code",
   "execution_count": null,
   "metadata": {
    "collapsed": false
   },
   "outputs": [],
   "source": [
    "# Choose the best fit setup for arm number:\n",
    "\n",
    "def make_setup_dictionary(question,questions,plot=True):\n",
    "\n",
    "    fit_setup = {}\n",
    "    fit_setup['func'] = {None: f_logistic}\n",
    "    fit_setup['bounds'] = {None: params.logistic_bounds}\n",
    "    fit_setup['p0'] = {None:[3,-3]}\n",
    "\n",
    "    n_morph = len(questions[question]['answers'])\n",
    "    fig,axes = make_axes(n_morph)\n",
    "\n",
    "    fractions = [question + '_' + s + '_weighted_fraction' for s in questions[question]['answers']]\n",
    "    counts = [question + '_' + s + '_count' for s in questions[question]['answers']]\n",
    "\n",
    "    for m in range(n_morph):\n",
    "    \n",
    "        p_values = np.log10(np.sort(data[fractions[m]]))\n",
    "        n = len(p_values)\n",
    "        cumfrac = np.linspace(0,1,n)\n",
    "        D = Table(np.array([cumfrac,p_values]).T,names=('cumfrac','log10fv'))\n",
    "        D_fit = D[D['log10fv'] > -1.5] # usually see a 'levelling off' ath the\n",
    "    # low end, so don't fit this.\n",
    "    \n",
    "        axes[m].plot(D['log10fv'],D['cumfrac'],'k-',linewidth=2)\n",
    "    \n",
    "        res_log = minimize(chisq_fun,x0=[3,-3],\n",
    "                           args=(f_logistic,\n",
    "                                 D_fit['log10fv'].astype(np.float64),\n",
    "                                 D_fit['cumfrac'].astype(np.float64)),\n",
    "                                 method='SLSQP',bounds=params.logistic_bounds)\n",
    "    \n",
    "        res_exp = minimize(chisq_fun,x0=[2,1],\n",
    "                           args=(f_exp_pow,\n",
    "                                 D_fit['log10fv'].astype(np.float64),\n",
    "                                 D_fit['cumfrac'].astype(np.float64)),\n",
    "                                 method='SLSQP',bounds=params.exponential_bounds)\n",
    "                    \n",
    "        xg = np.linspace(-2,0,100)\n",
    "    \n",
    "        axes[m].plot(xg,f_exp_pow(xg,res_exp.x[0],res_exp.x[1]),'r--',linewidth=2)\n",
    "        axes[m].plot(xg,f_logistic(xg,res_log.x[0],res_log.x[1]),'b:',linewidth=2)\n",
    "    \n",
    "        chisq_exp = chisq_fun(res_exp.x,f_exp_pow,D_fit['log10fv'],D_fit['cumfrac'])\n",
    "        chisq_log = chisq_fun(res_log.x,f_logistic,D_fit['log10fv'],D_fit['cumfrac'])\n",
    "        if chisq_exp < chisq_log:\n",
    "            f = f_exp_pow\n",
    "            bounds = params.exponential_bounds\n",
    "            res = res_exp.x\n",
    "            print('Exponential function chosen for ' + questions[question]['answers'][m])\n",
    "        else:\n",
    "            f = f_logistic\n",
    "            bounds = params.logistic_bounds\n",
    "            res = res_log.x\n",
    "            print('Logistic function chosen for ' + questions[question]['answers'][m])\n",
    "    \n",
    "        fit_setup['func'].update({m:f})\n",
    "        fit_setup['bounds'].update({m:bounds})\n",
    "        fit_setup['p0'].update({m:res})\n",
    "    \n",
    "        axes[m].text(0.75,0.2,r'$\\chi^{2}_{log}' + '={0:.0f}$'.format(chisq_log)\n",
    "                     ,family='serif',horizontalalignment='left',verticalalignment='top'\n",
    "                     ,transform = axes[m].transAxes,size=15,color='blue')\n",
    "        axes[m].text(0.75,0.1,r'$\\chi^{2}_{exp}' + '={0:.0f}$'.format(chisq_exp)\n",
    "                     ,family='serif',horizontalalignment='left',verticalalignment='top'\n",
    "                     ,transform = axes[m].transAxes,size=15,color='red')\n",
    "        \n",
    "        axes[m].text(0.04,0.95,questions[question]['answerlabels'][m]\n",
    "                     ,family='serif',horizontalalignment='left',verticalalignment='top'\n",
    "                     ,transform = axes[m].transAxes,size=15)\n",
    "    \n",
    "    plt.xlim(-2,0)\n",
    "    plt.ylim(0,1)\n",
    "    \n",
    "    if plot == True:\n",
    "        plt.savefig('figures/' + question + '/fit_setups/' + question + '_setup.pdf')\n",
    "        \n",
    "    return fit_setup\n",
    "\n",
    "fit_setup = make_setup_dictionary(question,questions)"
   ]
  },
  {
   "cell_type": "code",
   "execution_count": null,
   "metadata": {
    "collapsed": false,
    "scrolled": false
   },
   "outputs": [],
   "source": [
    "fit_vbin_results = fit_vbin_function(data, bin_assignments, fit_setup,\n",
    "                                     question,questions)"
   ]
  },
  {
   "cell_type": "code",
   "execution_count": null,
   "metadata": {
    "collapsed": false
   },
   "outputs": [],
   "source": [
    "def plot_fit_vbin(question,questions,parameter='k', predictor=None):\n",
    "    \n",
    "    answerlabels = questions[question]['answerlabels']\n",
    "    \n",
    "    n_morph = len(questions[question]['answers'])\n",
    "    fig, axarr = plt.subplots(n_morph, 3, sharey='row', sharex='col', figsize=(15,3*n_morph))\n",
    "    def plot(ax, x, answer, colourby):\n",
    "        r = fit_vbin_results[fit_vbin_results['answer'] == answer]\n",
    "        if predictor is None:\n",
    "            param = r[parameter]\n",
    "        else:\n",
    "            f, p = predictor\n",
    "            var = np.array([r[c] for c in ['Mr', 'R50', 'redshift']], np.float64)\n",
    "            if p is not None:\n",
    "                param = f(var, *p[answer])\n",
    "            else:\n",
    "                param = f(var)\n",
    "        ax.scatter(r[x], param, c=r[colourby], marker='.', edgecolor='')\n",
    "        y, bin_edges, binnumber = binned_statistic(r[x], r[parameter], statistic='median')\n",
    "        xc = 0.5 * (bin_edges[:-1] + bin_edges[1:])\n",
    "        ax.plot(xc, y, 'k-')\n",
    "        if predictor is not None:\n",
    "            y, bin_edges, binnumber = binned_statistic(r[x], param, statistic='median')\n",
    "            xc = 0.5 * (bin_edges[:-1] + bin_edges[1:])\n",
    "            ax.plot(xc, y, 'k--')\n",
    "        low, high = plot_limits(r[parameter])\n",
    "        ax.axis(ymin=low, ymax=high)\n",
    "    for a, axrow in enumerate(axarr):\n",
    "        plot(axrow[0], 'redshift', a, 'vbin')\n",
    "        plot(axrow[1], 'R50', a, 'redshift')\n",
    "        plot(axrow[2], 'Mr', a, 'redshift')\n",
    "        axrow[0].set_ylabel(\"${}$ ({})\".format(parameter,answerlabels[a]))\n",
    "        if a == len(axarr) - 1:\n",
    "            axrow[0].set_xlabel('$z$')\n",
    "            axrow[1].set_xlabel('$\\log_{10}{R_{50}}$')\n",
    "            axrow[2].set_xlabel('$M_r$')\n",
    "    fig.subplots_adjust(hspace=0, wspace=0)"
   ]
  },
  {
   "cell_type": "code",
   "execution_count": null,
   "metadata": {
    "collapsed": false
   },
   "outputs": [],
   "source": [
    "plot_fit_vbin(question,questions,'k')\n",
    "plt.savefig('figures/' + question + '/kc_fitted_functions/{}_k_x.pdf'.format(question))"
   ]
  },
  {
   "cell_type": "code",
   "execution_count": null,
   "metadata": {
    "collapsed": false
   },
   "outputs": [],
   "source": [
    "plot_fit_vbin(question,questions,'c')\n",
    "plt.savefig('figures/' + question +'/kc_fitted_functions/{}_c_x.pdf')"
   ]
  },
  {
   "cell_type": "code",
   "execution_count": null,
   "metadata": {
    "collapsed": false
   },
   "outputs": [],
   "source": [
    "from scipy.optimize import curve_fit\n",
    "\n",
    "def kcfunc(x, A0, AM, AR, Az):\n",
    "    # linear combination of (magnitude, size, redshift) + an offset\n",
    "    r = A0 + AM*x[0] + AR*x[1] + Az*x[2]    \n",
    "    return r\n",
    "\n",
    "\n",
    "def fit_mrz(d, f=kcfunc):\n",
    "    # Fit a linear function of M, R and z to k and c\n",
    "\n",
    "    answers = d['answer']\n",
    "    answer_list = np.unique(answers)\n",
    "    n_answers = len(answer_list)\n",
    "    \n",
    "    dout = d.copy()\n",
    "    dout['kf'] = np.zeros(len(d))\n",
    "    dout['cf'] = np.zeros(len(d))\n",
    "    \n",
    "    kparams = []\n",
    "    cparams = []\n",
    "    \n",
    "    kmin = [d[answers == a]['k'].min() for a in answer_list]\n",
    "    kmax = [d[answers == a]['k'].max() for a in answer_list] \n",
    "    cmin = [d[answers == a]['c'].min() for a in answer_list]\n",
    "    cmax = [d[answers == a]['c'].max() for a in answer_list] \n",
    "\n",
    "    # Loop over GZ morphologies\n",
    "    for a in answer_list:\n",
    "        select = answers == a\n",
    "        da = d[select]\n",
    "        x = np.array([da[c] for c in ['Mr', 'R50', 'redshift']], np.float64)\n",
    "        k = da['k'].astype(np.float64)\n",
    "        c = da['c'].astype(np.float64)\n",
    "\n",
    "        kp, kc = curve_fit(f, x, k, maxfev=1000)\n",
    "        cp, cc = curve_fit(f, x, c, maxfev=1000)\n",
    "        \n",
    "        dout['kf'][select] = f(x, *kp)\n",
    "        dout['cf'][select] = f(x, *cp)\n",
    "\n",
    "        kparams.append(kp)\n",
    "        cparams.append(cp)\n",
    "\n",
    "    return kparams, cparams, dout, kmin, kmax, cmin, cmax"
   ]
  },
  {
   "cell_type": "code",
   "execution_count": null,
   "metadata": {
    "collapsed": false
   },
   "outputs": [],
   "source": [
    "kparams, cparams, dout, kmin, kmax, cmin, cmax = fit_mrz(fit_vbin_results, kcfunc)"
   ]
  },
  {
   "cell_type": "code",
   "execution_count": null,
   "metadata": {
    "collapsed": false
   },
   "outputs": [],
   "source": [
    "plt.scatter(dout['kf'], dout['k'], c='b',\n",
    "            marker='.', edgecolor='', alpha=0.5)\n",
    "#plt.scatter(dout2['kf'], dout['k'], c='b',\n",
    "            #marker='.', edgecolor='', alpha=0.5)\n",
    "plt.plot([0, 6], [0, 6], 'k-')\n",
    "plt.xlabel('$k$ fit')\n",
    "plt.ylabel('$k$')\n",
    "_ = plt.axis((0, 6, 0, 6))"
   ]
  },
  {
   "cell_type": "code",
   "execution_count": null,
   "metadata": {
    "collapsed": false
   },
   "outputs": [],
   "source": [
    "plt.scatter(dout['cf'], dout['c'], c='b',\n",
    "            marker='.', edgecolor='', alpha=0.5)\n",
    "#plt.scatter(dout2['cf'], dout['c'], c='b',\n",
    "            #marker='.', edgecolor='', alpha=0.5)\n",
    "plt.plot([-8, 2], [-8, 2], 'k-')\n",
    "plt.xlabel('$c$ fit')\n",
    "plt.ylabel('$c$')\n",
    "_ = plt.axis((-8, 2, -8, 2))"
   ]
  },
  {
   "cell_type": "code",
   "execution_count": null,
   "metadata": {
    "collapsed": false
   },
   "outputs": [],
   "source": [
    "plot_fit_vbin(question,questions,'k', predictor=(kcfunc, kparams))\n",
    "plt.savefig('figures/' + question + '/kc_fitted_functions/{}_k_x_fit1.pdf'.format(question))"
   ]
  },
  {
   "cell_type": "code",
   "execution_count": null,
   "metadata": {
    "collapsed": false
   },
   "outputs": [],
   "source": [
    "plot_fit_vbin(question,questions,'c', predictor=(kcfunc, cparams))\n",
    "plt.savefig('figures/' + question + '/kc_fitted_functions/{}_c_x_fit1.pdf'.format(question))"
   ]
  },
  {
   "cell_type": "code",
   "execution_count": null,
   "metadata": {
    "collapsed": false
   },
   "outputs": [],
   "source": [
    "# plot cumulative histograms with adopted fit\n",
    "fit_vbin_results = fit_vbin_function(data, bin_assignments, fit_setup,\n",
    "                                     question,questions,kc_fit_results=(kcfunc, kparams, cparams, 1))"
   ]
  },
  {
   "cell_type": "code",
   "execution_count": null,
   "metadata": {
    "collapsed": true
   },
   "outputs": [],
   "source": [
    "def debias(data, z_base, kcfunc, kparams, cparams,\n",
    "           question,questions):\n",
    "    # Debias the dataset\n",
    "    answers = questions[question]['answers']\n",
    "    \n",
    "    morph_fv_cols = ['{}_{}_weighted_fraction'.format(question, a) \n",
    "                     for a in answers]\n",
    "    \n",
    "    debiased = data[morph_fv_cols]\n",
    "\n",
    "    # Each galaxy gets a function fit to its M,R and z parameters, which are scaled\n",
    "    # to the equivalent M and r functions at low z.\n",
    "\n",
    "    for m, fv_col in enumerate(morph_fv_cols):\n",
    "        fv = debiased[fv_col]\n",
    "        fv_nonzero = fv > 0\n",
    "        log10fv = np.log10(np.asarray(fv[fv_nonzero]))\n",
    "        \n",
    "        func, _, _ = get_fit_setup(fit_setup, m)\n",
    "        ifunc = inverse_f(func)\n",
    "\n",
    "        d = data[fv_nonzero]\n",
    "        x = np.array([d['PETROMAG_MR'],\n",
    "                      np.log10(d['PETROR50_R_KPC']),\n",
    "                      d['REDSHIFT_1']], np.float64)\n",
    "        k = kcfunc(x, *kparams[m])\n",
    "        c = kcfunc(x, *cparams[m])\n",
    "\n",
    "        # create version of x with all redshifts at z_base\n",
    "        xb = x.copy()\n",
    "        xb[-1] = z_base\n",
    "        \n",
    "        kb = kcfunc(xb, *kparams[m])\n",
    "        cb = kcfunc(xb, *cparams[m])\n",
    "\n",
    "        # possibly deal with any functions outside the k and c limits here\n",
    "        \n",
    "        cumfrac = func(log10fv, k, c)\n",
    "        log10fv_debiased = ifunc(cumfrac, kb, cb)\n",
    "        fv_debiased = 10**(log10fv_debiased)\n",
    "\n",
    "        debiased[fv_col][fv_nonzero] = fv_debiased\n",
    "\n",
    "    return debiased"
   ]
  },
  {
   "cell_type": "code",
   "execution_count": null,
   "metadata": {
    "collapsed": false
   },
   "outputs": [],
   "source": [
    "# Do the debiasing of the FULL sample...\n",
    "\n",
    "z_base = 0.03\n",
    "    \n",
    "def debias_fits(data,filename):\n",
    "\n",
    "    answers = questions[question]['answers']\n",
    "    debiased = debias(data, z_base, kcfunc, kparams, cparams,\n",
    "                  question,questions)\n",
    "    \n",
    "    for c in enumerate(debiased.colnames):\n",
    "        fits_col = question + '_' + answers[c[0]] + '_debiased_2'\n",
    "        data[fits_col] = debiased[c[1]]\n",
    "\n",
    "    return debiased\n",
    "\n",
    "debiased_full = debias_fits(all_data,'full_sample_copy.fits')\n",
    "debiased = debias_fits(vl_data,'volume_limited_copy.fits')"
   ]
  },
  {
   "cell_type": "code",
   "execution_count": null,
   "metadata": {
    "collapsed": false
   },
   "outputs": [],
   "source": [
    "vl_data.write(source_directory+'volume_limited_copy.fits',overwrite=True)\n",
    "all_data.write(source_directory+'full_sample_copy.fits',overwrite=True)"
   ]
  },
  {
   "cell_type": "code",
   "execution_count": null,
   "metadata": {
    "collapsed": true
   },
   "outputs": [],
   "source": [
    "def plot_debiased(data, debiased,question,questions,subsample=10):\n",
    "    # Plot debiased values vs. raw values for comparison. Blue -> red with z.\n",
    "    answers = questions[question]['answers']\n",
    "    answerlabels = questions[question]['answerlabels']\n",
    "    \n",
    "    data = data[::subsample]\n",
    "    debiased = debiased[::subsample]\n",
    "    \n",
    "    morph_fv_cols = ['{}_{}_weighted_fraction'.format(question, a) \n",
    "                     for a in answers]\n",
    "\n",
    "    fig, axarr = plt.subplots(2, 3, sharex='col', sharey='row')\n",
    "\n",
    "    z = data['REDSHIFT_1']\n",
    "\n",
    "    for m, fv_col in enumerate(morph_fv_cols):\n",
    "        ax = axarr.ravel()[m]\n",
    "        sc = ax.scatter(data[fv_col], debiased[fv_col],\n",
    "                        marker=\".\", c=z, edgecolor='',\n",
    "                        cmap=plt.cm.coolwarm,\n",
    "                        norm=mpl.colors.LogNorm())\n",
    "\n",
    "        ax.axis((0, 1, 0, 1))\n",
    "        ax.plot([0,1],[0,1],\"k-\")\n",
    "\n",
    "        ax.text(0.4, 0.9, answerlabels[m], fontsize='small', ha='left')\n",
    "\n",
    "        if m > 2:\n",
    "            ax.set_xlabel(r\"$f_v$\")\n",
    "        if m == 0 or m == 3:\n",
    "            ax.set_ylabel(r\"$f_{v,\\mathrm{debiased}}$\")\n",
    "\n",
    "    fig.subplots_adjust(hspace=0, wspace=0, right=0.85)\n",
    "\n",
    "    cbar_ax = fig.add_axes([0.9, 0.25, 0.025, 0.5])\n",
    "    cbar = fig.colorbar(sc, cax=cbar_ax, format='%.2f')\n",
    "    cbar_ax.set_yticks([0.04,0.06,0.08])\n",
    "    cbar.ax.set_ylabel('redshift')\n",
    "    \n",
    "    fig.savefig('figures/' + question +'/debiased_plots/debiased.pdf',dpi=100)"
   ]
  },
  {
   "cell_type": "code",
   "execution_count": null,
   "metadata": {
    "collapsed": true
   },
   "outputs": [],
   "source": [
    "def plot_vf_histogram(debiased):\n",
    "    # Plot histogram of sums of f_v.\n",
    "\n",
    "    fig, ax = plt.subplots()\n",
    "\n",
    "    fv = np.array([debiased[c] for c in debiased.colnames], np.float)\n",
    "    sums = np.sum(fv, axis=0)\n",
    "    sums = sums[sums != 0]\n",
    "    ax.hist(sums, bins=50, histtype='stepfilled', range=(0, 3))\n",
    "\n",
    "    ax.set_xlabel(r\"$\\Sigma f_v$\")\n",
    "    ax.set_ylabel(r\"$N_{gal}$\")\n",
    "\n",
    "    fig.savefig('figures/' + question + '/debiased_plots/vf_histogram.pdf')"
   ]
  },
  {
   "cell_type": "code",
   "execution_count": null,
   "metadata": {
    "collapsed": false
   },
   "outputs": [],
   "source": [
    "plot_debiased(vl_data,debiased,question,questions)\n",
    "plot_vf_histogram(debiased)"
   ]
  }
 ],
 "metadata": {
  "kernelspec": {
   "display_name": "Python 3",
   "language": "python",
   "name": "python3"
  },
  "language_info": {
   "codemirror_mode": {
    "name": "ipython",
    "version": 3
   },
   "file_extension": ".py",
   "mimetype": "text/x-python",
   "name": "python",
   "nbconvert_exporter": "python",
   "pygments_lexer": "ipython3",
   "version": "3.4.1"
  }
 },
 "nbformat": 4,
 "nbformat_minor": 0
}
