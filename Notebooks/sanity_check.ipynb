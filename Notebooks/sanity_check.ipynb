{
 "cells": [
  {
   "cell_type": "code",
   "execution_count": null,
   "metadata": {
    "collapsed": true
   },
   "outputs": [],
   "source": [
    "# Check the plotting codes to make sure all of the contours are in the right place:\n",
    "\n",
    "y_test = np.random.randn(1000)/20 + 0.9\n",
    "x_test = np.random.randn(1000)/20 + 1.25\n",
    "\n",
    "sample = np.array([x_test,y_test]).T\n",
    "\n",
    "for s in enumerate([sample]):\n",
    "    \n",
    "    s1=s[1]\n",
    "    \n",
    "    u_r = sample[:,0]\n",
    "    r_z = sample[:,1]\n",
    "    \n",
    "    extent = [xmin,xmax,ymin,ymax]\n",
    "    \n",
    "    H,xedges,yedges = np.histogram2d(u_r,r_z,range=[[xmin,xmax],[ymin,ymax]],normed=True,bins=50)\n",
    "    \n",
    "    H_filter = gaussian_filter(H,sigma=1)\n",
    "    \n",
    "    plt.contour(H_filter.T,extent=extent,colors=clr[s[0]],levels=np.linspace(2,8,4))\n",
    "    plt.hist2d(u_r,r_z,bins=[xedges,yedges],cmap=cmaps[s[0]],alpha=0.75)\n",
    "    \n",
    "plt.xlabel('$u-r$')\n",
    "plt.ylabel('$r-z$')"
   ]
  }
 ],
 "metadata": {
  "kernelspec": {
   "display_name": "Python 3",
   "language": "python",
   "name": "python3"
  },
  "language_info": {
   "codemirror_mode": {
    "name": "ipython",
    "version": 3
   },
   "file_extension": ".py",
   "mimetype": "text/x-python",
   "name": "python",
   "nbconvert_exporter": "python",
   "pygments_lexer": "ipython3",
   "version": "3.4.1"
  }
 },
 "nbformat": 4,
 "nbformat_minor": 0
}
