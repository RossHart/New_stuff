{
 "cells": [
  {
   "cell_type": "code",
   "execution_count": 1,
   "metadata": {
    "collapsed": false
   },
   "outputs": [
    {
     "ename": "ImportError",
     "evalue": "No module named 'plotting_func'",
     "output_type": "error",
     "traceback": [
      "\u001b[1;31m---------------------------------------------------------------------------\u001b[0m",
      "\u001b[1;31mImportError\u001b[0m                               Traceback (most recent call last)",
      "\u001b[1;32m<ipython-input-1-105778b27f95>\u001b[0m in \u001b[0;36m<module>\u001b[1;34m()\u001b[0m\n\u001b[0;32m      1\u001b[0m \u001b[1;32mimport\u001b[0m \u001b[0mscipy\u001b[0m\u001b[1;33m.\u001b[0m\u001b[0mstats\u001b[0m\u001b[1;33m.\u001b[0m\u001b[0mdistributions\u001b[0m \u001b[1;32mas\u001b[0m \u001b[0mdist\u001b[0m\u001b[1;33m\u001b[0m\u001b[0m\n\u001b[0;32m      2\u001b[0m \u001b[1;32mfrom\u001b[0m \u001b[0mastropy\u001b[0m\u001b[1;33m.\u001b[0m\u001b[0mtable\u001b[0m \u001b[1;32mimport\u001b[0m \u001b[0mTable\u001b[0m\u001b[1;33m\u001b[0m\u001b[0m\n\u001b[1;32m----> 3\u001b[1;33m \u001b[1;32mimport\u001b[0m \u001b[0mplotting_func\u001b[0m\u001b[1;33m\u001b[0m\u001b[0m\n\u001b[0m\u001b[0;32m      4\u001b[0m \u001b[1;33m\u001b[0m\u001b[0m\n\u001b[0;32m      5\u001b[0m \u001b[1;32mfrom\u001b[0m \u001b[0mscipy\u001b[0m\u001b[1;33m.\u001b[0m\u001b[0mstats\u001b[0m \u001b[1;32mimport\u001b[0m \u001b[0mbinned_statistic\u001b[0m\u001b[1;33m,\u001b[0m \u001b[0mscoreatpercentile\u001b[0m\u001b[1;33m\u001b[0m\u001b[0m\n",
      "\u001b[1;31mImportError\u001b[0m: No module named 'plotting_func'"
     ]
    }
   ],
   "source": [
    "import scipy.stats.distributions as dist\n",
    "from astropy.table import Table\n",
    "import plotting_func\n",
    "\n",
    "from scipy.stats import binned_statistic, scoreatpercentile\n",
    "\n",
    "#-------------------------------------------------------\n",
    "import matplotlib as mpl\n",
    "from prefig import Prefig\n",
    "Prefig()\n",
    "% matplotlib inline\n",
    "\n",
    "from matplotlib.ticker import MaxNLocator\n",
    "\n",
    "plt.rcParams['font.family'] = 'serif'\n",
    "plt.rcParams['figure.figsize'] = (10.0, 8)\n",
    "plt.rcParams['font.size'] = 18\n",
    "mpl.ticker.AutoLocator.default_params['nbins'] = 6\n",
    "mpl.ticker.AutoLocator.default_params['prune'] = 'both'\n",
    "#------------------------------------------------------\n",
    "\n",
    "source_dir = '../../fits/'\n",
    "data_file = 'volume_limited_sample.fits'\n",
    "debiased_file = 'debiased_volume_limited_sample.fits'"
   ]
  },
  {
   "cell_type": "code",
   "execution_count": null,
   "metadata": {
    "collapsed": false
   },
   "outputs": [],
   "source": [
    "def get_column(c,data,col_name):\n",
    "  \n",
    "    if len(c) == 2:\n",
    "        column = data.field(c[0]) - data.field(c[1])\n",
    "    else:\n",
    "        column = data.field(c[0])\n",
    "        if len(c) > 2:\n",
    "            print(col_name + \"has >2 fields. Only the first field was used.\")\n",
    "  \n",
    "    return column\n",
    "\n",
    "def load(cx,p_th=0.5,N_th=5,mass_lim=False):\n",
    "\n",
    "    gal_data = fits.getdata(source_dir + data_file,1) \n",
    "    debiased_values = fits.getdata(source_dir + debiased_file,1)\n",
    "            \n",
    "    x_column = get_column(c=cx,data=gal_data,col_name=\"x\") \n",
    "    \n",
    "    f_v = np.array([debiased_values.field(c) \n",
    "                    for c in debiased_values.columns.names]).T\n",
    "    \n",
    "    table = np.concatenate([f_v,np.array([x_column]).T],axis=1)\n",
    "    \n",
    "    table = Table(table,names=('p_1','p_2','p_3','p_4','p_5','p_ct','x'))\n",
    "        \n",
    "    p_spiral = (\n",
    "        gal_data.field(\"t01_smooth_or_features_a02_features_or_disk_debiased\")\n",
    "        *gal_data.field(\"t02_edgeon_a05_no_debiased\")\n",
    "        *gal_data.field(\"t04_spiral_a08_spiral_debiased\"))\n",
    "    N_spiral = (gal_data.field(\"t04_spiral_a08_spiral_count\")\n",
    "                -gal_data.field('t11_arms_number_a37_cant_tell_count')) # Load values to\n",
    "    # allow data cuts to be made. Keep only gals where more than 5 people classified the \n",
    "    # the spiral arm number.\n",
    "    \n",
    "    spiral_select = (p_spiral > p_th) & (N_spiral >= N_th)\n",
    "    finite_select = (np.isfinite(table['x']))\n",
    "    \n",
    "    if mass_lim == True:\n",
    "        mass_cut = gal_data.field('LOGMSTAR_BALDRY06') > 10.6\n",
    "        full_table = table[finite_select & mass_cut]\n",
    "        spiral_table = table[finite_select & spiral_select & mass_cut]\n",
    "        \n",
    "    else:\n",
    "        full_table = table[finite_select]\n",
    "        spiral_table = table[finite_select & spiral_select]\n",
    "        \n",
    "    return full_table,spiral_table"
   ]
  },
  {
   "cell_type": "code",
   "execution_count": null,
   "metadata": {
    "collapsed": false
   },
   "outputs": [],
   "source": [
    "def assign(table,th=0,redistribute=False,rd_th=0,ct_th=0,print_sizes=False):\n",
    "\n",
    "    m_columns = ['p_1','p_2','p_3','p_4','p_5','p_ct']\n",
    "    \n",
    "    m_array = np.array([table[column] for column in m_columns]).T\n",
    "    \n",
    "    arm_assignments = np.ones(len(table))*(-999) # Assigned arm numbers \n",
    "    # initially is an array of -999s. -999 means 'no assignment'.\n",
    "    for m in range(6):\n",
    "        a = (np.argmax(m_array,axis=1) == m) & (m_array[:,m] >= th)\n",
    "        arm_assignments[a] = m\n",
    "        \n",
    "    if redistribute is True: # Redistribute according to thresholds.\n",
    "        for m in range(5):\n",
    "            arm_assignments[(np.argmax(m_array[:,:5],axis=1) == m) \n",
    "                & (arm_assignments == 5) & (m_array[:,m]/m_array[:,5] > rd_th) \n",
    "                & (m_array[:,5] <= ct_th)] = m\n",
    "\n",
    "    if print_sizes is True:\n",
    "        print(\"total sample: \" + str(len(arm_assignments)))\n",
    "        print(\"total 'assigned' sample: \" \n",
    "              + str(np.sum(arm_assignments != -999)))\n",
    "        for m in range(6):\n",
    "            print(\"m = \" + str(m+1) + \": \" \n",
    "                  + str(np.sum(arm_assignments == m)))\n",
    "      \n",
    "    return arm_assignments"
   ]
  },
  {
   "cell_type": "code",
   "execution_count": null,
   "metadata": {
    "collapsed": false
   },
   "outputs": [],
   "source": [
    "def bin_by_column(column, nbins, fixedcount=True):\n",
    "    sorted_indices = np.argsort(column)\n",
    "    if fixedcount:\n",
    "        bin_edges = np.linspace(0, 1, nbins + 1)\n",
    "        bin_edges[-1] += 1\n",
    "        values = np.empty(len(column))\n",
    "        values[sorted_indices] = np.linspace(0, 1, len(column))\n",
    "        bins = np.digitize(values, bins=bin_edges)\n",
    "    else:\n",
    "        bin_edges = np.linspace(np.min(column),np.max(column), nbins + 1)\n",
    "        bin_edges[-1] += 1\n",
    "        values = column\n",
    "        bins = np.digitize(values, bins=bin_edges)\n",
    "    x, b, n = binned_statistic(values, column, bins=bin_edges)\n",
    "    return x, bins"
   ]
  },
  {
   "cell_type": "code",
   "execution_count": null,
   "metadata": {
    "collapsed": false
   },
   "outputs": [],
   "source": [
    "def binned_morph_frac(morph, bins):\n",
    "    total = np.bincount(bins)[1:]\n",
    "    frac = []\n",
    "    for m in np.unique(morph):\n",
    "        count = np.bincount(bins[morph == m], minlength=bins.max()+1)[1:]\n",
    "        frac.append(frac_errors(count, total))\n",
    "    return frac"
   ]
  },
  {
   "cell_type": "code",
   "execution_count": null,
   "metadata": {
    "collapsed": false
   },
   "outputs": [],
   "source": [
    "def plot_morph_frac_trend(x, frac, frac_raw=None, xlabel='redshift', answerlabels=None,label_position=[0.04,0.95]):\n",
    "    C = ['orange','red','magenta','green','blue']\n",
    "    nmorph = len(frac)\n",
    "    fig, axarr = plt.subplots(5, 1, sharex=True, sharey=False, figsize=(10, 3*nmorph))\n",
    "    \n",
    "    for m in range(5):\n",
    "        ax = axarr[m]\n",
    "        ax.yaxis.set_major_locator(mpl.ticker.MaxNLocator(nbins=4, prune=\"upper\"))\n",
    "        if frac_raw is not None:\n",
    "            ax.plot(x, frac_raw[m]['frac'], '--', color=C[m], lw=2, alpha=0.5)\n",
    "            ax.fill_between(x, frac_raw[m]['low'], frac_raw[m]['high'], color=C[m], alpha=0.25)\n",
    "        mean = frac[m]['frac'].mean()\n",
    "        ax.hlines([mean], -100, 100, linestyle=':', color=C[m], lw=3)\n",
    "        ax.plot(x, frac[m]['frac'], color=C[m], lw=2)\n",
    "        ax.fill_between(x, frac[m]['low'], frac[m]['high'], color=C[m], alpha=0.5)\n",
    "        \n",
    "        ax.set_ylabel('fraction',fontsize=18)\n",
    "        if answerlabels is not None:\n",
    "            ax.text(label_position[0], label_position[1], answerlabels[m], transform=ax.transAxes, va='top',fontsize=20)\n",
    "            \n",
    "            ax.yaxis.set_major_locator(MaxNLocator(nbins=6,prune='both'))\n",
    "    ax.set_xlabel(xlabel,fontsize=18)\n",
    "    \n",
    "    plt.subplots_adjust(hspace=0)"
   ]
  },
  {
   "cell_type": "code",
   "execution_count": null,
   "metadata": {
    "collapsed": false
   },
   "outputs": [],
   "source": [
    "def frac_errors(k, n, c=0.683):\n",
    "    # Gets the errors according to the Cameron et al. paper.\n",
    "    \n",
    "    # cope with both array and individual value inputs\n",
    "    k = np.array(k, np.float, ndmin=1)\n",
    "    frac = k / n\n",
    "    low = dist.beta.ppf((1-c)/2., k+1, n-k+1)\n",
    "    high = dist.beta.ppf(1-(1-c)/2., k+1, n-k+1)    \n",
    "    # ensure confidence intervals are sensible for\n",
    "    # extreme fractions\n",
    "    low = np.where(frac < low, 0.0, low)\n",
    "    high = np.where(frac > high, 1.0, high)\n",
    "    # return sensible shaped arrays\n",
    "    out = Table((frac, low, high), names=('frac', 'low', 'high'))\n",
    "    return out"
   ]
  },
  {
   "cell_type": "code",
   "execution_count": null,
   "metadata": {
    "collapsed": false
   },
   "outputs": [],
   "source": [
    "clr = ['orange','red','magenta','green','blue']\n",
    "\n",
    "a = ['$m=1$','$m=2$','$m=3$','$m=4$','$m=5+$']"
   ]
  },
  {
   "cell_type": "code",
   "execution_count": null,
   "metadata": {
    "collapsed": false
   },
   "outputs": [],
   "source": [
    "# Stellar mass ----\n",
    "\n",
    "data,spirals = load(cx=['LOGMSTAR_BALDRY06'],mass_lim=True)\n",
    "arm_assignments = assign(table=spirals,th=0,redistribute=True,rd_th=0,ct_th=10)\n",
    "bin_values,bin_assignments = bin_by_column(spirals['x'],20)\n",
    "\n",
    "frac = binned_morph_frac(arm_assignments, bin_assignments)\n",
    "plot_morph_frac_trend(bin_values,frac,xlabel='$\\log(M/M_{\\odot})}$',answerlabels=a)\n",
    "\n",
    "plt.xlim(10.6,11.22)\n",
    "    \n",
    "plt.savefig('../../output_images/fractional_plots/mass_plot.pdf')"
   ]
  },
  {
   "cell_type": "code",
   "execution_count": null,
   "metadata": {
    "collapsed": false
   },
   "outputs": [],
   "source": [
    "# Colour ----\n",
    "\n",
    "data,spirals = load(cx=['PETROMAG_MG','PETROMAG_MR'],mass_lim=True)\n",
    "arm_assignments = assign(table=spirals,th=0,redistribute=True,rd_th=0,ct_th=10)\n",
    "bin_values,bin_assignments = bin_by_column(spirals['x'],20)\n",
    "\n",
    "frac = binned_morph_frac(arm_assignments, bin_assignments)\n",
    "plot_morph_frac_trend(bin_values,frac,xlabel='$g-r$',answerlabels=a,label_position=[0.04,0.95])\n",
    "\n",
    "plt.xlim(0.4,0.8)\n",
    "    \n",
    "plt.savefig('../../output_images/fractional_plots/colour_plot.pdf')"
   ]
  },
  {
   "cell_type": "code",
   "execution_count": null,
   "metadata": {
    "collapsed": false
   },
   "outputs": [],
   "source": [
    "#print(bin_values)\n",
    "#print(frac[1])\n",
    "#print(frac[4])\n",
    "\n",
    "full_b = spirals[bin_assignments == 1]\n",
    "full_r = spirals[bin_assignments == 20]\n",
    "\n",
    "many_select = (arm_assignments == 2) + (arm_assignments == 3) + (arm_assignments == 4)\n",
    "\n",
    "a_b = spirals[(bin_assignments == 1) & (many_select == 1)]\n",
    "a_r = spirals[(bin_assignments == 20) & (many_select == 1)]\n",
    "\n",
    "c = 0.683\n",
    "\n",
    "def get_lh(n,k):\n",
    "    \n",
    "    frac = k/n\n",
    "\n",
    "    low = dist.beta.ppf((1-c)/2., k+1, n-k+1)\n",
    "    high = dist.beta.ppf(1-(1-c)/2., k+1, n-k+1)\n",
    "    \n",
    "    print(frac,low,high)\n",
    "    \n",
    "    return None\n",
    "\n",
    "get_lh(len(full_b),len(a_b))\n",
    "get_lh(len(full_r),len(a_r))"
   ]
  },
  {
   "cell_type": "code",
   "execution_count": null,
   "metadata": {
    "collapsed": false
   },
   "outputs": [],
   "source": [
    "fig,ax = plt.subplots()\n",
    "\n",
    "means = np.zeros((5,3))\n",
    "\n",
    "means[:,0]=np.arange(5) + 1\n",
    "\n",
    "means[:,1] = [np.mean(spirals['x'][arm_assignments == m]) for m in range(5)]\n",
    "means[:,2] = [np.std(spirals['x'][arm_assignments == m]) for m in range(5)]\n",
    "\n",
    "plt.errorbar(means[:,0],means[:,1],yerr=means[:,2],fmt='ko')\n",
    "\n",
    "print(np.std(spirals['x']))\n",
    "\n",
    "plt.xlim(0,6)\n",
    "plt.xticks([1,2,3,4,5])\n",
    "plt.ylim(0.425,0.775)\n",
    "plt.yticks(np.arange(0.5,0.79,0.1))\n",
    "\n",
    "#labels = [item.get_text() for item in ax.get_xticklabels()]\n",
    "labels = ['1','2','3','4','5+']\n",
    "ax.set_xticklabels(labels)\n",
    "\n",
    "plt.xlabel('$m$')\n",
    "plt.ylabel('$g-r$')"
   ]
  },
  {
   "cell_type": "code",
   "execution_count": null,
   "metadata": {
    "collapsed": false
   },
   "outputs": [],
   "source": [
    "# SFR ----\n",
    "\n",
    "data,spirals = load(cx=['ssfr_total_avg'],mass_lim=True)\n",
    "arm_assignments = assign(table=spirals,th=0,redistribute=True,rd_th=0,ct_th=10)\n",
    "bin_values,bin_assignments = bin_by_column(spirals['x'],20)\n",
    "\n",
    "frac = binned_morph_frac(arm_assignments, bin_assignments)\n",
    "plot_morph_frac_trend(bin_values,frac,xlabel='$sSFR [\\log(M_{\\odot} /M_{*}yr)]$',answerlabels=a)\n",
    "\n",
    "plt.xlim(-12.25,-9.6)\n",
    "    \n",
    "plt.savefig('../../output_images/fractional_plots/ssfr_plot.pdf')"
   ]
  },
  {
   "cell_type": "code",
   "execution_count": null,
   "metadata": {
    "collapsed": false
   },
   "outputs": [],
   "source": [
    "data,spirals = load(cx=['IVAN_DENSITY'],mass_lim=True)\n",
    "arm_assignments = assign(table=spirals,th=0,redistribute=True,rd_th=0,ct_th=10)\n",
    "bin_values,bin_assignments = bin_by_column(spirals['x'],20)\n",
    "\n",
    "frac = binned_morph_frac(arm_assignments, bin_assignments)\n",
    "plot_morph_frac_trend(bin_values,frac,xlabel='$\\log \\Sigma$',answerlabels=a)\n",
    "\n",
    "plt.xlim(-1.25,1.25)\n",
    "    \n",
    "plt.savefig('../../output_images/fractional_plots/density.pdf')"
   ]
  },
  {
   "cell_type": "code",
   "execution_count": null,
   "metadata": {
    "collapsed": false
   },
   "outputs": [],
   "source": [
    "print(bin_values)\n",
    "print(frac[1])\n",
    "print(frac[4])"
   ]
  }
 ],
 "metadata": {
  "kernelspec": {
   "display_name": "Python 3",
   "language": "python",
   "name": "python3"
  },
  "language_info": {
   "codemirror_mode": {
    "name": "ipython",
    "version": 3
   },
   "file_extension": ".py",
   "mimetype": "text/x-python",
   "name": "python",
   "nbconvert_exporter": "python",
   "pygments_lexer": "ipython3",
   "version": "3.4.1"
  }
 },
 "nbformat": 4,
 "nbformat_minor": 0
}
